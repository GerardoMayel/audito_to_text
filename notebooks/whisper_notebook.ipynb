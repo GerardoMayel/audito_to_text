{
 "cells": [
  {
   "cell_type": "code",
   "execution_count": 1,
   "id": "26888bef-0948-4206-9464-0fc0f0cbc71a",
   "metadata": {},
   "outputs": [],
   "source": [
    "import pandas as pd"
   ]
  },
  {
   "cell_type": "code",
   "execution_count": 5,
   "id": "60fceb0e-bd7a-42df-a2f8-ace9cb0ad82d",
   "metadata": {},
   "outputs": [],
   "source": [
    "import warnings\n",
    "\n",
    "# Ignorar todas las advertencias\n",
    "warnings.filterwarnings('ignore')"
   ]
  },
  {
   "cell_type": "code",
   "execution_count": null,
   "id": "94b9f1b6-63ad-44b7-a280-331a4db3eda3",
   "metadata": {},
   "outputs": [],
   "source": [
    "import whisper"
   ]
  },
  {
   "cell_type": "code",
   "execution_count": 8,
   "id": "cfac5467-8ba8-4e58-b026-2a67ab80e5b9",
   "metadata": {},
   "outputs": [],
   "source": [
    "def convert_audio_to_text(file_path, language=\"es\"):\n",
    "    # Cargar el modelo de Whisper\n",
    "    model = whisper.load_model(\"base\")\n",
    "\n",
    "    # Procesar el archivo de audio y obtener la transcripción\n",
    "    # Especificar el idioma del audio mejora la precisión de la transcripción\n",
    "    result = model.transcribe(file_path, language=language)\n",
    "\n",
    "    # Devolver la transcripción\n",
    "    return result[\"text\"]"
   ]
  },
  {
   "cell_type": "code",
   "execution_count": 9,
   "id": "cb08d3f2-000b-49a8-920c-def6c58df3f6",
   "metadata": {},
   "outputs": [
    {
     "name": "stdout",
     "output_type": "stream",
     "text": [
      " Hola Santiago, ¿cómo estás? Te hablan reza, se sordco, ¿merciélien cargado de tu servicio telefónico? ¿Cómo estás? Bien, gracias. No, no se interesaba mucho y me gracias. Mira, Santiago, el motivo de mi llamado es breve y es para darte un beneficio hasta el 7% en tu factura del móvil. Eh, los que... Solo te tomará tres minutos, Santiago, mira, el beneficio consiste en hacer una portabilidad o cambio de tu servicio en el cual debes estar pagando 60, casi 70 mil pesos. Aparada, ¿qué pasa? Apagar solamente 65 500 mensuales. ¿Qué te parece interesante, verdad? Pues, es que yo ya sí tengo... Y, en embargo, podría ser estar mejor. Santiago, mira, el ahorro es casi de 5 mil pesos al mes. En el año 60 mil pesos que puedes invertir en otras necesidades y no solo el beneficio económico, sino que vas a tener una cobertura mejor, más datos para navegar. Es una oferta ganagana. Solo es solo para algunos clientes, como tú, los beneficiados son pocos y tienes que aprovecharlo por el día de hoy. ¿Qué te parece? Pues, tal vez sí, tal vez me interesa la dos, pero es que no tengo tiempo pues dirá ¿fixir? ¿No te preocupes? Porque por el trabajo me queda poco tiempo libre, entonces, no sé, muchísimas gracias igual. ¿Entiendo, Santiago, no te preocupes? Mira, todo es muy sencillo. Yo me encargo por acá de hacerlo todo telefónicamente. Lo único que necesito es que me digas que estás interesado en ahorrar, en mejorar tu servicio. Yo lo transmito todo por acá en cuatro minutos. Sí, no es que lo que pasa es que en ese momento estoy en el bus y pues no me gusta dar datos así por teléfono, además que no sé si es una estafa ya... Entiende, ¿no? Sí, entiendo. Santiago, tu posición mira. Para tu tranquilidad te voy a dar mi extensión, como asesor es discutido en mi llamas, es la línea atención al cliente oficial que tenemos aquí en el call center, me vas a llamar y pide hablar conmigo, ¿sí? Son solo cinco minutos y con esos cinco minutos vas a mejorar tu servicio durante todo el año, chévere, ¿no? Ok, una pregunta, ¿cuánto me lo voy a tener? Mi, lligas, vas a tener más de 40 lligas que tienen. Ah, claro, vas a tener más de 40 lligas para redes sociales, que hay una navegación limitada para todo lo que desea y minutos y limitado nacionales y 20 minutos mensuales hasta la Venezuela. Ah, bueno, listo, sí, sí me interesa lo percan. Ah, bueno. ¿Listo? Bueno, Santiago, mira, son las 455. Eh, máximo el asesor es el 90, pero tu llamado, ok, si no es molesty, si no me puede llamar pues te estaré devolviendo la llamada para poderlo confirmar y para que puedas comer el beneficio te parece. Ok, listo, una cosa, si yo me tengo que bajar, ya casi voy a llegar a pues a mi destino. Una pregunta, ¿la falta es limitado? O sea, corre el riesgo de perderla si me demoró mucho en llamarle? Si, bueno, no, si a la 5 y 20 podemos establecer esa comunicación, máximo 5 y 30, yo te aseguro que te la puedo mantener. ¿Listo? Ah, bueno, ya, gracias por tu tiempo, hablamos más tarde, Santiago, chau. Ok, que se muy bien, Andrés, tal vez.\n"
     ]
    }
   ],
   "source": [
    "# Ruta del archivo de audio\n",
    "audio_file = \"./notebooks/Call center llamada real de venta.mp3\"  # Cambia esto por la ruta de tu archivo\n",
    "\n",
    "# Convertir y mostrar el texto\n",
    "print(convert_audio_to_text(audio_file, language=\"es\"))"
   ]
  },
  {
   "cell_type": "code",
   "execution_count": null,
   "id": "b40378b5-a39c-458b-8997-f9f83ed7803f",
   "metadata": {},
   "outputs": [],
   "source": []
  }
 ],
 "metadata": {
  "kernelspec": {
   "display_name": "whisper_env",
   "language": "python",
   "name": "whisper_env"
  },
  "language_info": {
   "codemirror_mode": {
    "name": "ipython",
    "version": 3
   },
   "file_extension": ".py",
   "mimetype": "text/x-python",
   "name": "python",
   "nbconvert_exporter": "python",
   "pygments_lexer": "ipython3",
   "version": "3.8.3"
  }
 },
 "nbformat": 4,
 "nbformat_minor": 5
}
